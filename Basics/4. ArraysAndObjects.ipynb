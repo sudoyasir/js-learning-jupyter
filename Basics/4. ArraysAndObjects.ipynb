{
 "cells": [
  {
   "cell_type": "markdown",
   "metadata": {},
   "source": [
    "# Working with Arrays and Objects in JavaScript\n",
    "\n",
    "## Introduction\n",
    "\n",
    "Arrays and objects are essential data structures in JavaScript that allow you to store and manipulate collections of data. This guide will cover the basics of working with arrays and objects in JavaScript.\n",
    "\n",
    "### Working with Arrays\n",
    "\n",
    "You can create arrays in JavaScript to store lists of values. You can see Arrays in detail in [Arrays in JavaScript](5.%20ArraysInJS.ipynb) Here's an example of creating an array and accessing its elements:"
   ]
  },
  {
   "cell_type": "code",
   "execution_count": null,
   "metadata": {
    "vscode": {
     "languageId": "javascript"
    }
   },
   "outputs": [],
   "source": [
    "// Creating an array\n",
    "let fruits = [\"apple\", \"banana\", \"cherry\"];\n",
    "\n",
    "// Accessing array elements\n",
    "console.log(fruits[0]); // Output: 'apple'\n",
    "console.log(fruits.length); // Output: 3"
   ]
  },
  {
   "cell_type": "markdown",
   "metadata": {},
   "source": [
    "You can also use various array methods such as push, pop, shift, unshift, slice, and splice to add, remove, and modify elements in the array.\n",
    "\n",
    "### Working with Objects\n",
    "\n",
    "Objects in JavaScript allow you to store collections of key-value pairs. Here's an example of creating an object and accessing its properties:"
   ]
  },
  {
   "cell_type": "code",
   "execution_count": null,
   "metadata": {
    "vscode": {
     "languageId": "javascript"
    }
   },
   "outputs": [],
   "source": [
    "// Creating an object\n",
    "let person = { name: \"Alice\", age: 25, profession: \"Engineer\" };\n",
    "\n",
    "// Accessing object properties\n",
    "console.log(person.name); // Output: 'Alice'\n",
    "console.log(person[\"age\"]); // Output: 25"
   ]
  },
  {
   "cell_type": "markdown",
   "metadata": {},
   "source": [
    "You can add new properties to an object, delete existing properties, and loop through an object's properties using for...in loops.\n",
    "\n",
    "## Conclusion\n",
    "\n",
    "Mastering the manipulation of arrays and objects is crucial for handling complex data structures and creating dynamic applications in JavaScript. Experiment with various array and object methods to enhance your coding skills and build more robust applications."
   ]
  }
 ],
 "metadata": {
  "language_info": {
   "name": "python"
  }
 },
 "nbformat": 4,
 "nbformat_minor": 2
}
