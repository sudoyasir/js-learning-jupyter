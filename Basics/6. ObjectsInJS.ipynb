{
 "cells": [
  {
   "cell_type": "markdown",
   "metadata": {},
   "source": [
    "# Objects in JavaScript\n",
    "\n",
    "## Introduction\n",
    "\n",
    "Objects in JavaScript are a fundamental data structure used to store collections of data in key-value pairs. They allow for the creation of complex data structures and are a cornerstone of the language.\n",
    "\n",
    "### Creating Objects\n",
    "\n",
    "Objects can be created using object literal syntax or the `new Object()` constructor."
   ]
  },
  {
   "cell_type": "code",
   "execution_count": null,
   "metadata": {
    "vscode": {
     "languageId": "javascript"
    }
   },
   "outputs": [],
   "source": [
    "const person = {\n",
    "  name: \"John Doe\",\n",
    "  age: 30,\n",
    "  isStudent: true,\n",
    "  hobbies: [\"reading\", \"hiking\", \"coding\"],\n",
    "};\n",
    "\n",
    "// Using Object constructor\n",
    "const car = new Object();\n",
    "car.make = \"Toyota\";\n",
    "car.model = \"Camry\";\n",
    "car.year = 2020;"
   ]
  },
  {
   "cell_type": "markdown",
   "metadata": {},
   "source": [
    "### Accessing Object Properties\n",
    "\n",
    "You can access object properties using dot notation or square brackets."
   ]
  },
  {
   "cell_type": "code",
   "execution_count": null,
   "metadata": {
    "vscode": {
     "languageId": "javascript"
    }
   },
   "outputs": [],
   "source": [
    "// Accessing object properties\n",
    "console.log(person.name); // Output: 'John Doe'\n",
    "console.log(person[\"age\"]); // Output: 30"
   ]
  },
  {
   "cell_type": "markdown",
   "metadata": {},
   "source": [
    "### Modifying Objects\n",
    "\n",
    "Objects in JavaScript are mutable, allowing you to add, update, or delete properties."
   ]
  },
  {
   "cell_type": "code",
   "execution_count": null,
   "metadata": {
    "vscode": {
     "languageId": "javascript"
    }
   },
   "outputs": [],
   "source": [
    "// Modifying objects\n",
    "person.age = 32; // Updating a property\n",
    "person.location = \"New York\"; // Adding a new property\n",
    "delete person.isStudent; // Deleting a property"
   ]
  },
  {
   "cell_type": "markdown",
   "metadata": {},
   "source": [
    "### Object Methods\n",
    "\n",
    "Objects can also contain functions as properties, known as methods."
   ]
  },
  {
   "cell_type": "code",
   "execution_count": null,
   "metadata": {
    "vscode": {
     "languageId": "javascript"
    }
   },
   "outputs": [],
   "source": [
    "// Object methods\n",
    "const student = {\n",
    "  name: \"Alice\",\n",
    "  age: 25,\n",
    "  greet: function () {\n",
    "    return \"Hello, my name is \" + this.name + \"!\";\n",
    "  },\n",
    "};\n",
    "console.log(student.greet()); // Output: 'Hello, my name is Alice!'"
   ]
  },
  {
   "cell_type": "markdown",
   "metadata": {},
   "source": [
    "### Object Iteration\n",
    "\n",
    "You can iterate over an object's properties using for...in loops or Object.keys and Object.values methods."
   ]
  },
  {
   "cell_type": "code",
   "execution_count": null,
   "metadata": {
    "vscode": {
     "languageId": "javascript"
    }
   },
   "outputs": [],
   "source": [
    "// Object iteration\n",
    "for (let key in person) {\n",
    "  console.log(`${key}: ${person[key]}`);\n",
    "}\n",
    "\n",
    "Object.keys(car).forEach((key) => {\n",
    "  console.log(`${key}: ${car[key]}`);\n",
    "});"
   ]
  },
  {
   "cell_type": "markdown",
   "metadata": {},
   "source": [
    "## Conclusion\n",
    "\n",
    "Understanding how to create, access, and manipulate objects is essential for building complex data structures and applications in JavaScript. With objects, you can organize and manage data more effectively, enabling you to create dynamic and interactive web applications.\n",
    "Happy coding!"
   ]
  }
 ],
 "metadata": {
  "language_info": {
   "name": "python"
  }
 },
 "nbformat": 4,
 "nbformat_minor": 2
}
