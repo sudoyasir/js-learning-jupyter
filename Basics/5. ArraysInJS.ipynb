{
 "cells": [
  {
   "cell_type": "markdown",
   "metadata": {},
   "source": [
    "# Arrays in JavaScript\n",
    "\n",
    "## Introduction\n",
    "\n",
    "Arrays in JavaScript are used to store multiple values in a single variable. They are a special type of object that provides a way to manage and manipulate collections of data efficiently.\n",
    "\n",
    "### Creating Arrays\n",
    "\n",
    "Arrays can be created using the array literal syntax or the `Array` constructor."
   ]
  },
  {
   "cell_type": "code",
   "execution_count": null,
   "metadata": {
    "vscode": {
     "languageId": "javascript"
    }
   },
   "outputs": [],
   "source": [
    "// Array literal\n",
    "const fruits = [\"apple\", \"banana\", \"cherry\"];\n",
    "\n",
    "// Using Array constructor\n",
    "const numbers = new Array(1, 2, 3, 4, 5);"
   ]
  },
  {
   "cell_type": "markdown",
   "metadata": {},
   "source": [
    "### Accessing Array Elements\n",
    "\n",
    "Individual elements within an array can be accessed using their index, starting from 0."
   ]
  },
  {
   "cell_type": "code",
   "execution_count": null,
   "metadata": {
    "vscode": {
     "languageId": "javascript"
    }
   },
   "outputs": [],
   "source": [
    "// Accessing array elements\n",
    "const colors = [\"red\", \"green\", \"blue\"];\n",
    "console.log(colors[0]); // Output: 'red'\n",
    "console.log(colors[2]); // Output: 'blue'"
   ]
  },
  {
   "cell_type": "markdown",
   "metadata": {},
   "source": [
    "### Modifying Arrays\n",
    "\n",
    "Arrays in JavaScript are mutable, meaning you can add, remove, and modify elements within an array."
   ]
  },
  {
   "cell_type": "code",
   "execution_count": null,
   "metadata": {
    "vscode": {
     "languageId": "javascript"
    }
   },
   "outputs": [],
   "source": [
    "// Modifying arrays\n",
    "const animals = [\"dog\", \"cat\", \"rabbit\"];\n",
    "animals.push(\"horse\"); // Adding an element\n",
    "animals[1] = \"bird\"; // Modifying an element\n",
    "animals.pop(); // Removing the last element"
   ]
  },
  {
   "cell_type": "markdown",
   "metadata": {},
   "source": [
    "### Array Methods\n",
    "\n",
    "JavaScript provides a variety of built-in methods for working with arrays, such as push, pop, shift, unshift, slice, splice, and more."
   ]
  },
  {
   "cell_type": "code",
   "execution_count": null,
   "metadata": {
    "vscode": {
     "languageId": "javascript"
    }
   },
   "outputs": [],
   "source": [
    "// Array methods\n",
    "const numbers = [1, 2, 3, 4, 5];\n",
    "numbers.push(6); // Adding an element at the end\n",
    "numbers.pop(); // Removing the last element\n",
    "numbers.shift(); // Removing the first element\n",
    "numbers.unshift(0); // Adding an element at the beginning"
   ]
  },
  {
   "cell_type": "markdown",
   "metadata": {},
   "source": [
    "### Iterating Over Arrays\n",
    "\n",
    "You can iterate over array elements using loops such as the for loop or the forEach method."
   ]
  },
  {
   "cell_type": "code",
   "execution_count": null,
   "metadata": {
    "vscode": {
     "languageId": "javascript"
    }
   },
   "outputs": [],
   "source": [
    "// Iterating over arrays\n",
    "const numbers = [1, 2, 3, 4, 5];\n",
    "for (let i = 0; i < numbers.length; i++) {\n",
    "  console.log(\"Element:\", numbers[i]);\n",
    "}\n",
    "\n",
    "// Using forEach method\n",
    "numbers.forEach((number) => {\n",
    "  console.log(\"Element:\", number);\n",
    "});"
   ]
  },
  {
   "cell_type": "markdown",
   "metadata": {},
   "source": [
    "## Conclusion\n",
    "\n",
    "Understanding how to work with arrays is crucial for handling collections of data in JavaScript. With the knowledge of array manipulation and iteration, you can effectively manage and process data within your applications.\n",
    "\n",
    "Happy coding!"
   ]
  }
 ],
 "metadata": {
  "language_info": {
   "name": "python"
  }
 },
 "nbformat": 4,
 "nbformat_minor": 2
}
