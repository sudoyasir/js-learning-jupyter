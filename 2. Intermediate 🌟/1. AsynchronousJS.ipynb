{
 "cells": [
  {
   "cell_type": "markdown",
   "metadata": {},
   "source": [
    "# Asynchronous JavaScript\n",
    "\n",
    "## Introduction\n",
    "\n",
    "Asynchronous JavaScript allows the execution of multiple tasks without blocking the main thread. It enables handling time-consuming operations such as fetching data from servers, reading files, or waiting for user input without freezing the user interface.\n",
    "\n",
    "### Callbacks\n",
    "\n",
    "Callbacks are a traditional way to handle asynchronous operations in JavaScript. They are functions passed as arguments to other functions and executed upon the completion of a task."
   ]
  },
  {
   "cell_type": "code",
   "execution_count": null,
   "metadata": {
    "vscode": {
     "languageId": "javascript"
    }
   },
   "outputs": [],
   "source": [
    "%%script node\n",
    "// Run node in Jupyter Notebook\n",
    "\n",
    "// Example of a callback\n",
    "function fetchData(callback) {\n",
    "  // Simulating data fetching\n",
    "  setTimeout(() => {\n",
    "    const data = 'Some data retrieved!';\n",
    "    callback(data);\n",
    "  }, 2000);\n",
    "}\n",
    "\n",
    "fetchData((data) => {\n",
    "  console.log(data);\n",
    "});"
   ]
  },
  {
   "cell_type": "markdown",
   "metadata": {},
   "source": [
    "### Promises\n",
    "\n",
    "Promises provide a more structured approach to handling asynchronous operations. They represent a value that may be available now, in the future, or never."
   ]
  },
  {
   "cell_type": "code",
   "execution_count": null,
   "metadata": {
    "vscode": {
     "languageId": "javascript"
    }
   },
   "outputs": [],
   "source": [
    "%%script node\n",
    "// Run node in Jupyter Notebook\n",
    "\n",
    "\n",
    "// Example of a promise\n",
    "const fetchData = () => {\n",
    "  return new Promise((resolve, reject) => {\n",
    "    // Simulating data fetching\n",
    "    setTimeout(() => {\n",
    "      const data = \"Some data retrieved!\";\n",
    "      resolve(data);\n",
    "    }, 2000);\n",
    "  });\n",
    "};\n",
    "\n",
    "fetchData()\n",
    "  .then((data) => {\n",
    "    console.log(data);\n",
    "  })\n",
    "  .catch((error) => {\n",
    "    console.error(error);\n",
    "  });"
   ]
  },
  {
   "cell_type": "markdown",
   "metadata": {},
   "source": [
    "### Async/Await\n",
    "\n",
    "Async/Await is a modern approach to handle asynchronous operations, providing a more concise and readable syntax for writing asynchronous code."
   ]
  },
  {
   "cell_type": "code",
   "execution_count": 1,
   "metadata": {
    "vscode": {
     "languageId": "javascript"
    }
   },
   "outputs": [
    {
     "name": "stdout",
     "output_type": "stream",
     "text": [
      "Some data retrieved!\n"
     ]
    }
   ],
   "source": [
    "%%script node\n",
    "// Run node in Jupyter Notebook\n",
    "\n",
    "// Example of async/await\n",
    "const fetchData = () => {\n",
    "  return new Promise((resolve, reject) => {\n",
    "    // Simulating data fetching\n",
    "    setTimeout(() => {\n",
    "      const data = \"Some data retrieved!\";\n",
    "      resolve(data);\n",
    "    }, 2000);\n",
    "  });\n",
    "};\n",
    "\n",
    "async function getData() {\n",
    "  try {\n",
    "    const data = await fetchData();\n",
    "    console.log(data);\n",
    "  } catch (error) {\n",
    "    console.error(error);\n",
    "  }\n",
    "}\n",
    "\n",
    "getData();"
   ]
  },
  {
   "cell_type": "markdown",
   "metadata": {},
   "source": [
    "### Conclusion\n",
    "\n",
    "Understanding asynchronous JavaScript is crucial for developing responsive and efficient web applications. By mastering asynchronous programming, you can create smoother user experiences and handle complex tasks seamlessly."
   ]
  }
 ],
 "metadata": {
  "kernelspec": {
   "display_name": "Python 3",
   "language": "python",
   "name": "python3"
  },
  "language_info": {
   "codemirror_mode": {
    "name": "ipython",
    "version": 3
   },
   "file_extension": ".py",
   "mimetype": "text/x-python",
   "name": "python",
   "nbconvert_exporter": "python",
   "pygments_lexer": "ipython3",
   "version": "3.11.4"
  }
 },
 "nbformat": 4,
 "nbformat_minor": 2
}
