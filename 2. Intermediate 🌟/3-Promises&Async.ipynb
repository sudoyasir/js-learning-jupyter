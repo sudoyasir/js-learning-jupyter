{
 "cells": [
  {
   "cell_type": "markdown",
   "metadata": {},
   "source": [
    "# Promises and Asynchronous Programming\n",
    "\n",
    "## Introduction to Promises\n",
    "\n",
    "- **Definition:** A promise represents the eventual completion or failure of an asynchronous operation and its resulting value.\n",
    "- **States:** Pending, Fulfilled, Rejected.\n",
    "- **Creating Promises:** Using the `Promise` constructor.\n",
    "\n",
    "## Chaining Promises\n",
    "\n",
    "- **`.then()` and `.catch()`:** Handling resolved and rejected states.\n",
    "- **Chaining Promises:** Sequencing asynchronous operations.\n",
    "\n",
    "## Async/Await Syntax\n",
    "\n",
    "- **`async` Functions:** Defining asynchronous functions.\n",
    "- **`await` Operator:** Pausing execution until a promise is settled.\n",
    "\n",
    "## Error Handling in Asynchronous Code\n",
    "\n",
    "- **Try-Catch with Promises:** Handling errors in asynchronous code.\n",
    "- **Promise.all and Promise.race:** Handling multiple promises concurrently.\n",
    "\n",
    "## Example:"
   ]
  },
  {
   "cell_type": "code",
   "execution_count": null,
   "metadata": {
    "vscode": {
     "languageId": "javascript"
    }
   },
   "outputs": [],
   "source": [
    "\n",
    "// Promises and Asynchronous Programming Example\n",
    "\n",
    "// Creating a Promise\n",
    "let fetchData = new Promise((resolve, reject) => {\n",
    "    setTimeout(() => {\n",
    "        let data = { message: \"Async data fetched!\" };\n",
    "        resolve(data);\n",
    "    }, 2000);\n",
    "});\n",
    "\n",
    "// Chaining Promises\n",
    "fetchData\n",
    "    .then((data) => {\n",
    "        console.log(data.message);\n",
    "        return new Promise((resolve) => {\n",
    "            resolve(\"Additional data processed!\");\n",
    "        });\n",
    "    })\n",
    "    .then((additionalData) => {\n",
    "        console.log(additionalData);\n",
    "    })\n",
    "    .catch((error) => {\n",
    "        console.error(\"Error:\", error);\n",
    "    });\n",
    "\n",
    "// Async/Await Syntax\n",
    "async function fetchDataAsync() {\n",
    "    try {\n",
    "        let data = await fetchData;\n",
    "        console.log(data.message);\n",
    "    } catch (error) {\n",
    "        console.error(\"Error:\", error);\n",
    "    }\n",
    "}\n",
    "\n",
    "fetchDataAsync();"
   ]
  },
  {
   "cell_type": "markdown",
   "metadata": {},
   "source": [
    "A [MiniProject](../Projects%20📁/user-information-fetcher/) has the usage of Promises and Asynchronous programming in JavaScript."
   ]
  }
 ],
 "metadata": {
  "language_info": {
   "name": "python"
  }
 },
 "nbformat": 4,
 "nbformat_minor": 2
}
