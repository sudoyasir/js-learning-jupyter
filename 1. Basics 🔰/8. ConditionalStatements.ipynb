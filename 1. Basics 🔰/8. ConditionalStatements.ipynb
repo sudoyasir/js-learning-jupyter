{
 "cells": [
  {
   "cell_type": "markdown",
   "metadata": {},
   "source": [
    "# Conditional Statements in JavaScript\n",
    "\n",
    "Conditional statements in JavaScript allow you to make decisions in your code. They are used to perform different actions based on different conditions. Let's explore the basic conditional statements: `if`, `else if`, and `else`.\n",
    "\n",
    "## Basic `if`, `else if`, and `else` Statements\n",
    "\n",
    "In JavaScript, the basic syntax for conditional statements looks like this:"
   ]
  },
  {
   "cell_type": "code",
   "execution_count": null,
   "metadata": {
    "vscode": {
     "languageId": "javascript"
    }
   },
   "outputs": [],
   "source": [
    "// Basic if statement\n",
    "let temperature = 25;\n",
    "\n",
    "if (temperature > 30) {\n",
    "    console.log(\"It's a hot day!\");\n",
    "} else if (temperature <= 30 && temperature >= 20) {\n",
    "    console.log(\"It's a pleasant day.\");\n",
    "} else {\n",
    "    console.log(\"It's a cold day.\");\n",
    "}\n"
   ]
  },
  {
   "cell_type": "markdown",
   "metadata": {},
   "source": [
    "In the above code:\n",
    "\n",
    "- We use the if statement to check if the temperature is greater than 30.\n",
    "- If the condition is true, it prints \"It's a hot day!\"\n",
    "- If the condition is false, it moves to the else if statement and checks if the temperature is between 20 and 30.\n",
    "- If the second condition is true, it prints \"It's a pleasant day.\"\n",
    "- If none of the conditions is true, it goes to the else block and prints \"It's a cold day.\"\n"
   ]
  },
  {
   "cell_type": "markdown",
   "metadata": {},
   "source": [
    "## Ternary Operator\n",
    "JavaScript also provides a concise way to write conditional statements using the ternary operator. Here's an example:"
   ]
  },
  {
   "cell_type": "code",
   "execution_count": null,
   "metadata": {
    "vscode": {
     "languageId": "javascript"
    }
   },
   "outputs": [],
   "source": [
    "// Ternary Operator\n",
    "let isRaining = true;\n",
    "\n",
    "// Using a ternary operator to determine the message based on the value of isRaining\n",
    "let weatherMessage = isRaining ? 'Bring an umbrella.' : 'Enjoy the day!';\n",
    "\n",
    "console.log(weatherMessage);"
   ]
  },
  {
   "cell_type": "markdown",
   "metadata": {},
   "source": [
    "The above code demonstrates the use of a ternary operator. The expression `isRaining` ? `'Bring an umbrella.'` : `'Enjoy the day!'` evaluates to `'Bring an umbrella.'` if `isRaining` is true and `'Enjoy the day!'` otherwise."
   ]
  },
  {
   "cell_type": "markdown",
   "metadata": {},
   "source": [
    "Conditional statements are fundamental for controlling the flow of your JavaScript code. They allow you to execute different blocks of code based on varying conditions, making your programs more dynamic and responsive."
   ]
  }
 ],
 "metadata": {
  "language_info": {
   "name": "python"
  }
 },
 "nbformat": 4,
 "nbformat_minor": 2
}
