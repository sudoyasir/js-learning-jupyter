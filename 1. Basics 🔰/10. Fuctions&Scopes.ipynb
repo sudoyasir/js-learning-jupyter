{
 "cells": [
  {
   "cell_type": "markdown",
   "metadata": {},
   "source": [
    "# Functions and Scope in JavaScript\n",
    "\n",
    "## Introduction to Functions\n",
    "\n",
    "- **Function Definition:** Declaring and defining functions.\n",
    "- **Function Invocation:** Calling functions to execute their code.\n",
    "- **Parameters and Arguments:** Passing data into functions.\n",
    "\n",
    "## Function Scope\n",
    "\n",
    "- **Global Scope:** Variables defined outside functions.\n",
    "- **Local Scope:** Variables defined inside functions.\n",
    "- **Block Scope (with let and const):** Variables defined within blocks.\n",
    "\n",
    "## Function Expressions and Arrow Functions\n",
    "\n",
    "- **Function Expressions:** Defining functions as variables.\n",
    "- **Arrow Functions:** A concise syntax for function expressions.\n",
    "\n",
    "## Anonymous Functions and Callbacks\n",
    "\n",
    "- **Anonymous Functions:** Functions without a name.\n",
    "- **Callbacks:** Passing functions as arguments to other functions.\n",
    "\n",
    "## Closures\n",
    "\n",
    "- **Definition:** Functions that have access to variables from their outer (enclosing) scope.\n",
    "- **Use Cases:** Maintaining state, creating private variables.\n",
    "\n",
    "## Example:"
   ]
  },
  {
   "cell_type": "code",
   "execution_count": null,
   "metadata": {
    "vscode": {
     "languageId": "javascript"
    }
   },
   "outputs": [],
   "source": [
    "// Functions and Scope Example\n",
    "\n",
    "// Function declaration\n",
    "function greet(name) {\n",
    "    return \"Hello, \" + name + \"!\";\n",
    "}\n",
    "\n",
    "// Function invocation\n",
    "let greeting = greet(\"John\");\n",
    "console.log(greeting);\n",
    "\n",
    "// Function expression\n",
    "let multiply = function(a, b) {\n",
    "    return a * b;\n",
    "};\n",
    "\n",
    "// Arrow function\n",
    "let add = (x, y) => x + y;\n",
    "\n",
    "// Closure example\n",
    "function outerFunction() {\n",
    "    let outerVariable = \"I am from the outer function\";\n",
    "\n",
    "    function innerFunction() {\n",
    "        console.log(outerVariable);\n",
    "    }\n",
    "\n",
    "    return innerFunction;\n",
    "}\n",
    "\n",
    "let closureExample = outerFunction();\n",
    "closureExample(); // Prints \"I am from the outer function\"\n"
   ]
  },
  {
   "cell_type": "markdown",
   "metadata": {},
   "source": [
    "Understanding functions and scope is fundamental to JavaScript development. Functions provide modularity, reusability, and structure to your code, while scope determines the visibility and lifetime of variables."
   ]
  }
 ],
 "metadata": {
  "language_info": {
   "name": "python"
  }
 },
 "nbformat": 4,
 "nbformat_minor": 2
}
