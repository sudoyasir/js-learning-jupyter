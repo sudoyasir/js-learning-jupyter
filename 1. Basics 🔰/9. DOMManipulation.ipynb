{
 "cells": [
  {
   "cell_type": "markdown",
   "metadata": {},
   "source": [
    "# DOM Manipulation in JavaScript\n",
    "\n",
    "## Introduction to the DOM\n",
    "\n",
    "The Document Object Model (DOM) represents the structure of an HTML document as a tree of objects. It provides a way for JavaScript to interact with and manipulate HTML elements.\n",
    "\n",
    "## Selecting Elements\n",
    "\n",
    "- **getElementById:** Selecting an element by its unique ID.\n",
    "- **getElementsByClassName and getElementsByTagName:** Selecting elements by class name or tag name.\n",
    "- **querySelector and querySelectorAll:** Using CSS selectors to select elements.\n",
    "\n",
    "## Modifying Elements\n",
    "\n",
    "- **innerHTML and textContent:** Changing the content of an element.\n",
    "- **setAttribute:** Modifying attributes of HTML elements.\n",
    "- **classList:** Adding, removing, and toggling CSS classes.\n",
    "\n",
    "## Creating and Deleting Elements\n",
    "\n",
    "- **createElement:** Creating new HTML elements.\n",
    "- **appendChild and removeChild:** Adding and removing elements from the DOM.\n",
    "\n",
    "## Event Handling with DOM\n",
    "\n",
    "- **addEventListener:** Attaching event listeners to respond to user interactions.\n",
    "- **Event Object:** Understanding the event object passed to event handlers.\n",
    "\n",
    "## Example:"
   ]
  },
  {
   "cell_type": "code",
   "execution_count": null,
   "metadata": {
    "vscode": {
     "languageId": "javascript"
    }
   },
   "outputs": [],
   "source": [
    "// DOM Manipulation Example\n",
    "\n",
    "// Selecting an element by ID\n",
    "let myElement = document.getElementById(\"myElement\");\n",
    "\n",
    "// Modifying the content of the element\n",
    "myElement.innerHTML = \"New content\";\n",
    "\n",
    "// Creating a new element and appending it to the document\n",
    "let newElement = document.createElement(\"p\");\n",
    "newElement.textContent = \"This is a new paragraph\";\n",
    "document.body.appendChild(newElement);\n",
    "\n",
    "// Adding an event listener\n",
    "myElement.addEventListener(\"click\", function() {\n",
    "    alert(\"Element clicked!\");\n",
    "});"
   ]
  },
  {
   "cell_type": "markdown",
   "metadata": {},
   "source": [
    "Understanding DOM manipulation is crucial for building interactive and dynamic web applications. It forms the basis for creating responsive user interfaces and handling user input."
   ]
  }
 ],
 "metadata": {
  "language_info": {
   "name": "python"
  }
 },
 "nbformat": 4,
 "nbformat_minor": 2
}
