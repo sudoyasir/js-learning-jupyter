{
 "cells": [
  {
   "cell_type": "markdown",
   "metadata": {},
   "source": [
    "# JavaScript Loops\n",
    "\n",
    "## Introduction\n",
    "\n",
    "Loops in JavaScript are used to execute a block of code repeatedly as long as a specified condition is true. They provide a way to iterate over arrays, objects, and perform various tasks efficiently.\n",
    "\n",
    "### For Loop\n",
    "\n",
    "The for loop is commonly used when the number of iterations is known. It consists of three parts: initialization, condition, and increment/decrement."
   ]
  },
  {
   "cell_type": "code",
   "execution_count": null,
   "metadata": {
    "vscode": {
     "languageId": "javascript"
    }
   },
   "outputs": [],
   "source": [
    "%%script node\n",
    "// Run node in Jupyter Notebook\n",
    "\n",
    "// For loop\n",
    "console.log(\"For Loop:\");\n",
    "for (let i = 0; i < 5; i++) {\n",
    "  console.log(\"Iteration:\", i);\n",
    "}"
   ]
  },
  {
   "cell_type": "markdown",
   "metadata": {},
   "source": [
    "### While Loop\n",
    "\n",
    "The while loop is used when the number of iterations is not known beforehand but depends on a condition being true."
   ]
  },
  {
   "cell_type": "code",
   "execution_count": null,
   "metadata": {
    "vscode": {
     "languageId": "javascript"
    }
   },
   "outputs": [],
   "source": [
    "%%script node\n",
    "// Run node in Jupyter Notebook\n",
    "\n",
    "//While loop\n",
    "console.log(\"While Loop:\");\n",
    "let i = 0;\n",
    "while (i < 5) {\n",
    "  console.log(\"Iteration:\", i);\n",
    "  i++;\n",
    "}"
   ]
  },
  {
   "cell_type": "markdown",
   "metadata": {},
   "source": [
    "### Do-While Loop\n",
    "\n",
    "The do-while loop is similar to the while loop but ensures that the code inside the loop is executed at least once, even if the condition is initially false."
   ]
  },
  {
   "cell_type": "code",
   "execution_count": null,
   "metadata": {
    "vscode": {
     "languageId": "javascript"
    }
   },
   "outputs": [],
   "source": [
    "%%script node\n",
    "// Run node in Jupyter Notebook\n",
    "\n",
    "//Do while loop\n",
    "console.log(\"Do While Loop:\");\n",
    "i = 0;\n",
    "do {\n",
    "  console.log(\"Iteration:\", i);\n",
    "  i++;\n",
    "} while (i < 5);"
   ]
  },
  {
   "cell_type": "markdown",
   "metadata": {},
   "source": [
    "### For-In Loop\n",
    "\n",
    "The for-in loop is used to iterate over the properties of an object."
   ]
  },
  {
   "cell_type": "code",
   "execution_count": null,
   "metadata": {
    "vscode": {
     "languageId": "javascript"
    }
   },
   "outputs": [],
   "source": [
    "%%script node\n",
    "// Run node in Jupyter Notebook\n",
    "\n",
    "// For-In Loop\n",
    "console.log(\"For-In Loop:\");\n",
    "const obj = { a: 1, b: 2, c: 3 };\n",
    "for (const key in obj) {\n",
    "  console.log(`${key}: ${obj[key]}`);\n",
    "}"
   ]
  },
  {
   "cell_type": "markdown",
   "metadata": {},
   "source": [
    "### For-Of Loop\n",
    "\n",
    "The for-of loop is used to iterate over the elements of an array."
   ]
  },
  {
   "cell_type": "code",
   "execution_count": null,
   "metadata": {
    "vscode": {
     "languageId": "javascript"
    }
   },
   "outputs": [],
   "source": [
    "%%script node\n",
    "// Run node in Jupyter Notebook\n",
    "\n",
    "// For-Of Loop\n",
    "console.log(\"For-Of Loop:\");\n",
    "const arr = [1, 2, 3, 4, 5];\n",
    "for (const element of arr) {\n",
    "  console.log(\"Element:\", element);\n",
    "}"
   ]
  },
  {
   "cell_type": "markdown",
   "metadata": {},
   "source": [
    "## Conclusion\n",
    "\n",
    "Understanding and using different types of loops is essential for writing efficient and effective JavaScript code. By leveraging these loop structures, you can easily handle repetitive tasks and iterate over data structures in your applications.\n",
    "\n",
    "Happy coding!"
   ]
  }
 ],
 "metadata": {
  "kernelspec": {
   "display_name": "Python 3",
   "language": "python",
   "name": "python3"
  },
  "language_info": {
   "codemirror_mode": {
    "name": "ipython",
    "version": 3
   },
   "file_extension": ".py",
   "mimetype": "text/x-python",
   "name": "python",
   "nbconvert_exporter": "python",
   "pygments_lexer": "ipython3",
   "version": "3.11.4"
  }
 },
 "nbformat": 4,
 "nbformat_minor": 2
}
