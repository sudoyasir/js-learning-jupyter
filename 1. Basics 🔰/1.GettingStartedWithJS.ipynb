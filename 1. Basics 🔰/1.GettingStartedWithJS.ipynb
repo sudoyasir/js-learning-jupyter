{
 "cells": [
  {
   "cell_type": "markdown",
   "metadata": {},
   "source": [
    "# Getting Started with JavaScript\n",
    "\n",
    "## Introduction\n",
    "\n",
    "JavaScript is a high-level, interpreted programming language that conforms to the ECMAScript specification. It is commonly used to create interactive and dynamic elements within web pages. This guide will walk you through the foundational concepts of JavaScript.\n",
    "\n",
    "### Setting Up\n",
    "\n",
    "To run JavaScript code, you can use any web browser's built-in developer tools or set up a local development environment using tools like Node.js or text editors like Visual Studio Code, Sublime Text, or Atom. You can also use online code editors such as CodePen, JSFiddle, or Repl.it.\n",
    "\n",
    "## Basic Syntax\n",
    "\n",
    "### Variables and Data Types\n",
    "\n",
    "In JavaScript, you can declare variables using the `var`, `let`, or `const` keywords. It has various data types such as numbers, strings, booleans, objects, arrays, and more.\n",
    "\n"
   ]
  },
  {
   "cell_type": "code",
   "execution_count": null,
   "metadata": {
    "vscode": {
     "languageId": "javascript"
    }
   },
   "outputs": [],
   "source": [
    "// Variable declaration\n",
    "var greeting = \"Hello, world!\";\n",
    "let number = 42;\n",
    "const pi = 3.14;\n",
    "\n",
    "// Data types\n",
    "let name = \"John Doe\";\n",
    "let age = 30;\n",
    "let isStudent = true;\n",
    "let fruits = [\"apple\", \"banana\", \"cherry\"];\n",
    "let person = { name: \"Alice\", age: 25 };"
   ]
  },
  {
   "cell_type": "markdown",
   "metadata": {},
   "source": [
    "### Functions\n",
    "\n",
    "Functions in JavaScript are reusable blocks of code that can be called and executed. They can take parameters and return values."
   ]
  },
  {
   "cell_type": "code",
   "execution_count": null,
   "metadata": {
    "vscode": {
     "languageId": "javascript"
    }
   },
   "outputs": [],
   "source": [
    "%%script node\n",
    "// Run node in Jupyter Notebook\n",
    "\n",
    "\n",
    "// Function declaration\n",
    "function greet(name) {\n",
    "  return \"Hello, \" + name + \"!\";\n",
    "}\n",
    "\n",
    "// Function call\n",
    "console.log(greet(\"John\"));"
   ]
  },
  {
   "cell_type": "markdown",
   "metadata": {},
   "source": [
    "### Control Structures\n",
    "\n",
    "JavaScript supports various control structures such as if-else statements, switch cases, and loops like for and while loops.\n"
   ]
  },
  {
   "cell_type": "code",
   "execution_count": null,
   "metadata": {
    "vscode": {
     "languageId": "javascript"
    }
   },
   "outputs": [],
   "source": [
    "%%script node\n",
    "// Run node in Jupyter Notebook\n",
    "\n",
    "// If-else statement\n",
    "let num = 10;\n",
    "\n",
    "if (num > 0) {\n",
    "  console.log(\"The number is positive.\");\n",
    "} else if (num < 0) {\n",
    "  console.log(\"The number is negative.\");\n",
    "} else {\n",
    "  console.log(\"The number is zero.\");\n",
    "}"
   ]
  },
  {
   "cell_type": "code",
   "execution_count": null,
   "metadata": {
    "vscode": {
     "languageId": "javascript"
    }
   },
   "outputs": [],
   "source": [
    "%%script node\n",
    "// Run node in Jupyter Notebook\n",
    "\n",
    "// For loop\n",
    "for (let i = 0; i < 5; i++) {\n",
    "  console.log(\"Iteration: \" + i);\n",
    "}"
   ]
  },
  {
   "cell_type": "markdown",
   "metadata": {},
   "source": [
    "### Document Object Model (DOM)\n",
    "\n",
    "JavaScript can manipulate the Document Object Model (DOM) to create dynamic and interactive web pages.\n"
   ]
  },
  {
   "cell_type": "code",
   "execution_count": null,
   "metadata": {
    "vscode": {
     "languageId": "html"
    }
   },
   "outputs": [],
   "source": [
    "<!DOCTYPE html>\n",
    "<html>\n",
    "  <body>\n",
    "    <h2>JavaScript in Body</h2>\n",
    "\n",
    "    <button\n",
    "      type=\"button\"\n",
    "      onclick=\"document.getElementById('demo').innerHTML = 'Hello JavaScript!'\"\n",
    "    >\n",
    "      Click Me!\n",
    "    </button>\n",
    "\n",
    "    <p id=\"demo\"></p>\n",
    "  </body>\n",
    "</html>"
   ]
  },
  {
   "cell_type": "markdown",
   "metadata": {},
   "source": [
    "## Conclusion\n",
    "\n",
    "This overview provides a glimpse into the essential components and functionalities of JavaScript. As you continue your journey, explore more complex concepts, such as object-oriented programming, asynchronous operations, and popular libraries like React.js and Node.js, to enhance your web development skills.\n",
    "\n",
    "Happy coding!\n"
   ]
  }
 ],
 "metadata": {
  "kernelspec": {
   "display_name": "Python 3",
   "language": "python",
   "name": "python3"
  },
  "language_info": {
   "codemirror_mode": {
    "name": "ipython",
    "version": 3
   },
   "file_extension": ".py",
   "mimetype": "text/x-python",
   "name": "python",
   "nbconvert_exporter": "python",
   "pygments_lexer": "ipython3",
   "version": "3.11.4"
  }
 },
 "nbformat": 4,
 "nbformat_minor": 2
}
