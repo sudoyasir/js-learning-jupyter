{
 "cells": [
  {
   "cell_type": "markdown",
   "metadata": {},
   "source": [
    "# Getting Started with JavaScript\n",
    "\n",
    "## Introduction\n",
    "\n",
    "JavaScript is a high-level, interpreted programming language that conforms to the [ECMAScript](https://262.ecma-international.org/) specification. It is commonly used to create interactive and dynamic elements within web pages. This guide will walk you through the foundational concepts of JavaScript.\n",
    "\n",
    "### Setting Up\n",
    "\n",
    "To run JavaScript code, you have several options:\n",
    "\n",
    "- **Web Browser and Developer Tools:** The quickest way to experiment with JavaScript is to use your web browser's built-in developer tools. Simply open your favorite browser (like [Google Chrome](https://www.google.com/chrome/), [Mozilla Firefox](https://www.mozilla.org/firefox/), or [Microsoft Edge](https://www.microsoft.com/edge/)), right-click on a web page, and select \"Inspect\" or \"Inspect Element.\" In the developer console, you can write and run JavaScript code.\n",
    "\n",
    "- **Local Development Environment:**\n",
    "  - [Node.js](https://nodejs.org/): If you want to write JavaScript outside of the browser, Node.js is a popular choice. It provides a runtime environment for executing JavaScript code on your computer.\n",
    "  - Text Editors: Consider using code editors like [Visual Studio Code](https://code.visualstudio.com/), [Sublime Text](https://www.sublimetext.com/), or [Atom](https://atom.io/) for a more customized development experience. These editors offer features like code highlighting, debugging, and extensions that make JavaScript development easier.\n",
    "\n",
    "- **Online Code Editors:** If you prefer a hassle-free setup, you can use online code editors that allow you to write and run JavaScript in your web browser without installing anything on your local machine. Here are a few popular options:\n",
    "  - [CodePen](https://codepen.io/): An online community where you can write and share HTML, CSS, and JavaScript code snippets. Great for quickly prototyping and sharing your work.\n",
    "  - [JSFiddle](https://jsfiddle.net/): A web-based tool for testing and sharing JavaScript, HTML, and CSS code. You can see live results on the page.\n",
    "  - [Repl.it](https://replit.com/): An online platform that supports a wide range of programming languages, including JavaScript. You can code in the browser and run your programs instantly.\n",
    "\n",
    "These tools and platforms offer different options for experimenting with JavaScript, so choose the one that best fits your needs.\n",
    "\n",
    "\n",
    "## Basic Syntax\n",
    "\n",
    "### Variables and Data Types\n",
    "\n",
    "In JavaScript, you can declare variables using the `var`, `let`, or `const` keywords. It has various data types such as numbers, strings, booleans, objects, arrays, and more.\n",
    "\n"
   ]
  },
  {
   "cell_type": "code",
   "execution_count": 9,
   "metadata": {
    "vscode": {
     "languageId": "javascript"
    }
   },
   "outputs": [
    {
     "ename": "SyntaxError",
     "evalue": "invalid syntax (3594277558.py, line 1)",
     "output_type": "error",
     "traceback": [
      "\u001b[1;36m  Cell \u001b[1;32mIn[9], line 1\u001b[1;36m\u001b[0m\n\u001b[1;33m    // Variable declaration\u001b[0m\n\u001b[1;37m    ^\u001b[0m\n\u001b[1;31mSyntaxError\u001b[0m\u001b[1;31m:\u001b[0m invalid syntax\n"
     ]
    }
   ],
   "source": [
    "// Variable declaration\n",
    "var greeting = 'Hello, world!';\n",
    "let number = 42;\n",
    "const pi = 3.14;\n",
    "\n",
    "// Data types\n",
    "let name = 'John Doe';\n",
    "let age = 30;\n",
    "let isStudent = true;\n",
    "let fruits = ['apple', 'banana', 'cherry'];\n",
    "let person = { name: 'Alice', age: 25 };\n"
   ]
  },
  {
   "cell_type": "markdown",
   "metadata": {},
   "source": [
    "### Functions\n",
    "\n",
    "Functions in JavaScript are reusable blocks of code that can be called and executed. They can take parameters and return values."
   ]
  },
  {
   "cell_type": "code",
   "execution_count": null,
   "metadata": {
    "vscode": {
     "languageId": "javascript"
    }
   },
   "outputs": [],
   "source": [
    "%%script node\n",
    "// Run node in Jupyter Notebook\n",
    "\n",
    "\n",
    "// Function declaration\n",
    "function greet(name) {\n",
    "  return \"Hello, \" + name + \"!\";\n",
    "}\n",
    "\n",
    "// Function call\n",
    "console.log(greet(\"John\"));"
   ]
  },
  {
   "cell_type": "markdown",
   "metadata": {},
   "source": [
    "### Control Structures\n",
    "\n",
    "JavaScript supports various control structures such as if-else statements, switch cases, and loops like for and while loops.\n"
   ]
  },
  {
   "cell_type": "code",
   "execution_count": null,
   "metadata": {
    "vscode": {
     "languageId": "javascript"
    }
   },
   "outputs": [],
   "source": [
    "%%script node\n",
    "// Run node in Jupyter Notebook\n",
    "\n",
    "// If-else statement\n",
    "let num = 10;\n",
    "\n",
    "if (num > 0) {\n",
    "  console.log(\"The number is positive.\");\n",
    "} else if (num < 0) {\n",
    "  console.log(\"The number is negative.\");\n",
    "} else {\n",
    "  console.log(\"The number is zero.\");\n",
    "}"
   ]
  },
  {
   "cell_type": "code",
   "execution_count": null,
   "metadata": {
    "vscode": {
     "languageId": "javascript"
    }
   },
   "outputs": [],
   "source": [
    "%%script node\n",
    "// Run node in Jupyter Notebook\n",
    "\n",
    "// For loop\n",
    "for (let i = 0; i < 5; i++) {\n",
    "  console.log(\"Iteration: \" + i);\n",
    "}"
   ]
  },
  {
   "cell_type": "markdown",
   "metadata": {},
   "source": [
    "### Document Object Model (DOM)\n",
    "\n",
    "JavaScript can work its magic on the Document Object Model (DOM) to breathe life into your web pages. With the power of DOM manipulation, you can seamlessly transform static web content into dynamic and interactive experiences, making your website truly come alive! 🚀\n"
   ]
  },
  {
   "cell_type": "code",
   "execution_count": null,
   "metadata": {
    "vscode": {
     "languageId": "html"
    }
   },
   "outputs": [],
   "source": [
    "<!DOCTYPE html>\n",
    "<html>\n",
    "  <head>\n",
    "    <style>\n",
    "      body {\n",
    "        transition: background-color 0.5s; \n",
    "        text-align: center;\n",
    "        font-size: 24px;\n",
    "        margin: 0;\n",
    "        padding: 0;\n",
    "      }\n",
    "    </style>\n",
    "  </head>\n",
    "  <body>\n",
    "    <h2>Click to Change Background Color</h2>\n",
    "\n",
    "    <button id=\"colorButton\">Click Me!</button>\n",
    "\n",
    "    <script>\n",
    "      // Getting a reference to the button element and adding a click event listener\n",
    "      const button = document.getElementById('colorButton');\n",
    "      button.addEventListener('click', () => {\n",
    "        // Generating a random color and setting up it as the background color\n",
    "        const randomColor = getRandomColor();\n",
    "        document.body.style.backgroundColor = randomColor;\n",
    "\n",
    "        // Updating the button text with the new color\n",
    "        button.textContent = `Background Color: ${randomColor}`;\n",
    "      });\n",
    "\n",
    "      // Function to generate a random color\n",
    "      function getRandomColor() {\n",
    "        const letters = '0123456789ABCDEF';\n",
    "        let color = '#';\n",
    "        for (let i = 0; i < 6; i++) {\n",
    "          color += letters[Math.floor(Math.random() * 16)];\n",
    "        }\n",
    "        return color;\n",
    "      }\n",
    "    </script>\n",
    "  </body>\n",
    "</html>\n"
   ]
  },
  {
   "cell_type": "markdown",
   "metadata": {},
   "source": [
    "## Conclusion\n",
    "\n",
    "This overview provides a glimpse into the essential components and functionalities of JavaScript. As you continue your journey, explore more complex concepts, such as object-oriented programming, asynchronous operations, and popular libraries like React.js and Node.js, to enhance your web development skills.\n",
    "\n",
    "Happy coding!\n"
   ]
  }
 ],
 "metadata": {
  "kernelspec": {
   "display_name": "Python 3",
   "language": "python",
   "name": "python3"
  },
  "language_info": {
   "codemirror_mode": {
    "name": "ipython",
    "version": 3
   },
   "file_extension": ".py",
   "mimetype": "text/x-python",
   "name": "python",
   "nbconvert_exporter": "python",
   "pygments_lexer": "ipython3",
   "version": "3.12.0"
  }
 },
 "nbformat": 4,
 "nbformat_minor": 2
}
