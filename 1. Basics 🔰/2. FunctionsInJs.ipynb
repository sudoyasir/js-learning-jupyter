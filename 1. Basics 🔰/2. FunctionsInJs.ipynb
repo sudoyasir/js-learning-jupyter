{
 "cells": [
  {
   "cell_type": "markdown",
   "metadata": {},
   "source": [
    "## Introduction\n",
    "\n",
    "Functions in JavaScript are reusable blocks of code that can be called and executed. They play a crucial role in structuring and organizing code. This guide will cover the basics of creating and using functions in JavaScript.\n",
    "\n",
    "### Function Declaration\n",
    "\n",
    "You can declare a function in JavaScript using the `function` keyword, followed by the function name and parameters, if any. Here's an example:"
   ]
  },
  {
   "cell_type": "code",
   "execution_count": null,
   "metadata": {
    "vscode": {
     "languageId": "javascript"
    }
   },
   "outputs": [],
   "source": [
    "%%script node\n",
    "// Run node in Jupyter Notebook\n",
    "\n",
    "// Function Declaration\n",
    "function greet(name) {\n",
    "    return 'Hello, ' + name + '!';\n",
    "}"
   ]
  },
  {
   "cell_type": "markdown",
   "metadata": {},
   "source": [
    "### Function Call\n",
    "\n",
    "Once you've declared a function, you can call it and pass values to its parameters. Here's an example of calling the greet function:"
   ]
  },
  {
   "cell_type": "code",
   "execution_count": null,
   "metadata": {
    "vscode": {
     "languageId": "javascript"
    }
   },
   "outputs": [],
   "source": [
    "%%script node\n",
    "// Run node in Jupyter Notebook\n",
    "\n",
    "// Function declaration\n",
    "function greet(name) {\n",
    "    return 'Hello, ' + name + '!';\n",
    "}\n",
    "\n",
    "// Function call\n",
    "console.log(greet('John'));"
   ]
  },
  {
   "cell_type": "markdown",
   "metadata": {},
   "source": [
    "### Anonymous Functions\n",
    "\n",
    "You can also create anonymous functions, which are functions without a name. They are often used as callback functions or for immediate invocation. Here's an example:"
   ]
  },
  {
   "cell_type": "code",
   "execution_count": null,
   "metadata": {
    "vscode": {
     "languageId": "javascript"
    }
   },
   "outputs": [],
   "source": [
    "%%script node\n",
    "// Run node in Jupyter Notebook\n",
    "\n",
    "// Anonymous function as a callback\n",
    "setTimeout(function() {\n",
    "    console.log('Delayed greeting after 3 seconds!');\n",
    "}, 3000);"
   ]
  },
  {
   "cell_type": "markdown",
   "metadata": {},
   "source": [
    "### Arrow Functions\n",
    "\n",
    "Arrow functions provide a more concise syntax for writing function expressions. They are particularly useful for shorter, one-line functions. Here's an example:"
   ]
  },
  {
   "cell_type": "code",
   "execution_count": null,
   "metadata": {
    "vscode": {
     "languageId": "javascript"
    }
   },
   "outputs": [],
   "source": [
    "%%script node\n",
    "// Run node in Jupyter Notebook\n",
    "\n",
    "// Arrow function\n",
    "const multiply = (a, b) => a * b;\n",
    "console.log(multiply(5, 3)); // Output: 15"
   ]
  },
  {
   "cell_type": "markdown",
   "metadata": {},
   "source": [
    "## Conclusion\n",
    "\n",
    "Understanding how to create and use functions in JavaScript is fundamental for writing organized and efficient code. Experiment with different types of functions to improve your coding skills and create more robust applications."
   ]
  }
 ],
 "metadata": {
  "kernelspec": {
   "display_name": "Python 3",
   "language": "python",
   "name": "python3"
  },
  "language_info": {
   "codemirror_mode": {
    "name": "ipython",
    "version": 3
   },
   "file_extension": ".py",
   "mimetype": "text/x-python",
   "name": "python",
   "nbconvert_exporter": "python",
   "pygments_lexer": "ipython3",
   "version": "3.11.4"
  }
 },
 "nbformat": 4,
 "nbformat_minor": 2
}
