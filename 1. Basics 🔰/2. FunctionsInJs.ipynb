{
 "cells": [
  {
   "cell_type": "markdown",
   "metadata": {},
   "source": [
    "## Introduction\n",
    "\n",
    "Functions in JavaScript are reusable blocks of code that can be called and executed. They play a crucial role in structuring and organizing code. This guide will cover the basics of creating and using functions in JavaScript.\n",
    "\n",
    "### Function Declaration\n",
    "\n",
    "You can declare a function in JavaScript using the `function` keyword, followed by the function name and parameters, if any. Here's an example:"
   ]
  },
  {
   "cell_type": "code",
   "execution_count": 1,
   "metadata": {
    "vscode": {
     "languageId": "javascript"
    }
   },
   "outputs": [],
   "source": [
    "%%script node\n",
    "// Run node in Jupyter Notebook\n",
    "\n",
    "// Function Declaration\n",
    "function greet(name) {\n",
    "    return 'Hello, ' + name + '!';\n",
    "}"
   ]
  },
  {
   "cell_type": "markdown",
   "metadata": {},
   "source": [
    "### Function Call\n",
    "\n",
    "Once you've declared a function, you can call it and pass values to its parameters. Here's an example of calling the greet function:"
   ]
  },
  {
   "cell_type": "code",
   "execution_count": 2,
   "metadata": {
    "vscode": {
     "languageId": "javascript"
    }
   },
   "outputs": [
    {
     "name": "stdout",
     "output_type": "stream",
     "text": [
      "Hello, John!\n"
     ]
    }
   ],
   "source": [
    "%%script node\n",
    "// Run node in Jupyter Notebook\n",
    "\n",
    "// Function declaration\n",
    "function greet(name) {\n",
    "    return 'Hello, ' + name + '!';\n",
    "}\n",
    "\n",
    "// Function call\n",
    "console.log(greet('John'));"
   ]
  },
  {
   "cell_type": "markdown",
   "metadata": {},
   "source": [
    "### Anonymous Functions\n",
    "\n",
    "You can also create anonymous functions, which are functions without a name. They are often used as callback functions or for immediate invocation. Here's an example:"
   ]
  },
  {
   "cell_type": "code",
   "execution_count": 3,
   "metadata": {
    "vscode": {
     "languageId": "javascript"
    }
   },
   "outputs": [
    {
     "name": "stdout",
     "output_type": "stream",
     "text": [
      "Delayed greeting after 3 seconds!\n"
     ]
    }
   ],
   "source": [
    "%%script node\n",
    "// Run node in Jupyter Notebook\n",
    "\n",
    "// Anonymous function as a callback\n",
    "setTimeout(function() {\n",
    "    console.log('Delayed greeting after 3 seconds!');\n",
    "}, 3000);"
   ]
  },
  {
   "cell_type": "markdown",
   "metadata": {},
   "source": [
    "### Arrow Functions\n",
    "\n",
    "Arrow functions provide a more concise syntax for writing function expressions. They are particularly useful for shorter, one-line functions. Here's an example:"
   ]
  },
  {
   "cell_type": "code",
   "execution_count": 4,
   "metadata": {
    "vscode": {
     "languageId": "javascript"
    }
   },
   "outputs": [
    {
     "name": "stdout",
     "output_type": "stream",
     "text": [
      "Total Amount: $137.5\n"
     ]
    }
   ],
   "source": [
    "%%script node\n",
    "// Run node in Jupyter Notebook\n",
    "\n",
    "\n",
    "const calculateTotal = (price, quantity) => {\n",
    "  const subtotal = price * quantity;\n",
    "  const tax = subtotal * 0.1; // if we keep the tax 10% \n",
    "  return subtotal + tax;\n",
    "}\n",
    "\n",
    "console.log(`Total Amount: $${calculateTotal(25, 5)}`); // Output: Total Amount: $137.5\n"
   ]
  },
  {
   "cell_type": "markdown",
   "metadata": {},
   "source": [
    "Pro Tip: Keep in mind that arrow functions are widely used in React.js for defining methods within components. They provide a clean and convenient way to handle event callbacks and other functions while preserving the context of `this` within your components. You'll see arrow functions playing a significant role in your future React projects.\n"
   ]
  },
  {
   "cell_type": "markdown",
   "metadata": {},
   "source": [
    "## Conclusion\n",
    "\n",
    "Understanding how to create and use functions in JavaScript is fundamental for writing organized and efficient code. Experiment with different types of functions to improve your coding skills and create more robust applications."
   ]
  }
 ],
 "metadata": {
  "kernelspec": {
   "display_name": "Python 3",
   "language": "python",
   "name": "python3"
  },
  "language_info": {
   "codemirror_mode": {
    "name": "ipython",
    "version": 3
   },
   "file_extension": ".py",
   "mimetype": "text/x-python",
   "name": "python",
   "nbconvert_exporter": "python",
   "pygments_lexer": "ipython3",
   "version": "3.12.0"
  }
 },
 "nbformat": 4,
 "nbformat_minor": 2
}
